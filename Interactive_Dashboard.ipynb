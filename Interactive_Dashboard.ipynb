{
  "nbformat": 4,
  "nbformat_minor": 0,
  "metadata": {
    "colab": {
      "provenance": []
    },
    "kernelspec": {
      "name": "python3",
      "display_name": "Python 3"
    },
    "language_info": {
      "name": "python"
    }
  },
  "cells": [
    {
      "cell_type": "markdown",
      "source": [],
      "metadata": {
        "id": "KLi9gbNC1TDz"
      }
    },
    {
      "cell_type": "markdown",
      "source": [
        "**IMPORT PYNGROK TO RUN STREAMLIT ON GOOGLE COLAB**"
      ],
      "metadata": {
        "id": "2vV6eUPV1Uhs"
      }
    },
    {
      "cell_type": "code",
      "execution_count": 2,
      "metadata": {
        "colab": {
          "base_uri": "https://localhost:8080/"
        },
        "id": "UjPZP-wOwnWY",
        "outputId": "d700fca1-5fc7-41e8-8ba0-d1bf1ad68877"
      },
      "outputs": [
        {
          "output_type": "stream",
          "name": "stdout",
          "text": [
            "Requirement already satisfied: streamlit in /usr/local/lib/python3.11/dist-packages (1.46.0)\n",
            "Requirement already satisfied: pyngrok in /usr/local/lib/python3.11/dist-packages (7.2.11)\n",
            "Requirement already satisfied: altair<6,>=4.0 in /usr/local/lib/python3.11/dist-packages (from streamlit) (5.5.0)\n",
            "Requirement already satisfied: blinker<2,>=1.5.0 in /usr/local/lib/python3.11/dist-packages (from streamlit) (1.9.0)\n",
            "Requirement already satisfied: cachetools<7,>=4.0 in /usr/local/lib/python3.11/dist-packages (from streamlit) (5.5.2)\n",
            "Requirement already satisfied: click<9,>=7.0 in /usr/local/lib/python3.11/dist-packages (from streamlit) (8.2.1)\n",
            "Requirement already satisfied: numpy<3,>=1.23 in /usr/local/lib/python3.11/dist-packages (from streamlit) (2.0.2)\n",
            "Requirement already satisfied: packaging<26,>=20 in /usr/local/lib/python3.11/dist-packages (from streamlit) (24.2)\n",
            "Requirement already satisfied: pandas<3,>=1.4.0 in /usr/local/lib/python3.11/dist-packages (from streamlit) (2.2.2)\n",
            "Requirement already satisfied: pillow<12,>=7.1.0 in /usr/local/lib/python3.11/dist-packages (from streamlit) (11.2.1)\n",
            "Requirement already satisfied: protobuf<7,>=3.20 in /usr/local/lib/python3.11/dist-packages (from streamlit) (5.29.5)\n",
            "Requirement already satisfied: pyarrow>=7.0 in /usr/local/lib/python3.11/dist-packages (from streamlit) (18.1.0)\n",
            "Requirement already satisfied: requests<3,>=2.27 in /usr/local/lib/python3.11/dist-packages (from streamlit) (2.32.3)\n",
            "Requirement already satisfied: tenacity<10,>=8.1.0 in /usr/local/lib/python3.11/dist-packages (from streamlit) (9.1.2)\n",
            "Requirement already satisfied: toml<2,>=0.10.1 in /usr/local/lib/python3.11/dist-packages (from streamlit) (0.10.2)\n",
            "Requirement already satisfied: typing-extensions<5,>=4.4.0 in /usr/local/lib/python3.11/dist-packages (from streamlit) (4.14.0)\n",
            "Requirement already satisfied: watchdog<7,>=2.1.5 in /usr/local/lib/python3.11/dist-packages (from streamlit) (6.0.0)\n",
            "Requirement already satisfied: gitpython!=3.1.19,<4,>=3.0.7 in /usr/local/lib/python3.11/dist-packages (from streamlit) (3.1.44)\n",
            "Requirement already satisfied: pydeck<1,>=0.8.0b4 in /usr/local/lib/python3.11/dist-packages (from streamlit) (0.9.1)\n",
            "Requirement already satisfied: tornado!=6.5.0,<7,>=6.0.3 in /usr/local/lib/python3.11/dist-packages (from streamlit) (6.4.2)\n",
            "Requirement already satisfied: PyYAML>=5.1 in /usr/local/lib/python3.11/dist-packages (from pyngrok) (6.0.2)\n",
            "Requirement already satisfied: jinja2 in /usr/local/lib/python3.11/dist-packages (from altair<6,>=4.0->streamlit) (3.1.6)\n",
            "Requirement already satisfied: jsonschema>=3.0 in /usr/local/lib/python3.11/dist-packages (from altair<6,>=4.0->streamlit) (4.24.0)\n",
            "Requirement already satisfied: narwhals>=1.14.2 in /usr/local/lib/python3.11/dist-packages (from altair<6,>=4.0->streamlit) (1.43.0)\n",
            "Requirement already satisfied: gitdb<5,>=4.0.1 in /usr/local/lib/python3.11/dist-packages (from gitpython!=3.1.19,<4,>=3.0.7->streamlit) (4.0.12)\n",
            "Requirement already satisfied: python-dateutil>=2.8.2 in /usr/local/lib/python3.11/dist-packages (from pandas<3,>=1.4.0->streamlit) (2.9.0.post0)\n",
            "Requirement already satisfied: pytz>=2020.1 in /usr/local/lib/python3.11/dist-packages (from pandas<3,>=1.4.0->streamlit) (2025.2)\n",
            "Requirement already satisfied: tzdata>=2022.7 in /usr/local/lib/python3.11/dist-packages (from pandas<3,>=1.4.0->streamlit) (2025.2)\n",
            "Requirement already satisfied: charset-normalizer<4,>=2 in /usr/local/lib/python3.11/dist-packages (from requests<3,>=2.27->streamlit) (3.4.2)\n",
            "Requirement already satisfied: idna<4,>=2.5 in /usr/local/lib/python3.11/dist-packages (from requests<3,>=2.27->streamlit) (3.10)\n",
            "Requirement already satisfied: urllib3<3,>=1.21.1 in /usr/local/lib/python3.11/dist-packages (from requests<3,>=2.27->streamlit) (2.4.0)\n",
            "Requirement already satisfied: certifi>=2017.4.17 in /usr/local/lib/python3.11/dist-packages (from requests<3,>=2.27->streamlit) (2025.6.15)\n",
            "Requirement already satisfied: smmap<6,>=3.0.1 in /usr/local/lib/python3.11/dist-packages (from gitdb<5,>=4.0.1->gitpython!=3.1.19,<4,>=3.0.7->streamlit) (5.0.2)\n",
            "Requirement already satisfied: MarkupSafe>=2.0 in /usr/local/lib/python3.11/dist-packages (from jinja2->altair<6,>=4.0->streamlit) (3.0.2)\n",
            "Requirement already satisfied: attrs>=22.2.0 in /usr/local/lib/python3.11/dist-packages (from jsonschema>=3.0->altair<6,>=4.0->streamlit) (25.3.0)\n",
            "Requirement already satisfied: jsonschema-specifications>=2023.03.6 in /usr/local/lib/python3.11/dist-packages (from jsonschema>=3.0->altair<6,>=4.0->streamlit) (2025.4.1)\n",
            "Requirement already satisfied: referencing>=0.28.4 in /usr/local/lib/python3.11/dist-packages (from jsonschema>=3.0->altair<6,>=4.0->streamlit) (0.36.2)\n",
            "Requirement already satisfied: rpds-py>=0.7.1 in /usr/local/lib/python3.11/dist-packages (from jsonschema>=3.0->altair<6,>=4.0->streamlit) (0.25.1)\n",
            "Requirement already satisfied: six>=1.5 in /usr/local/lib/python3.11/dist-packages (from python-dateutil>=2.8.2->pandas<3,>=1.4.0->streamlit) (1.17.0)\n"
          ]
        }
      ],
      "source": [
        "!pip install streamlit pyngrok"
      ]
    },
    {
      "cell_type": "markdown",
      "source": [
        "**CREATING APP.PY FILE TO RUN STREAMLIT IN LOCAL SERVER**"
      ],
      "metadata": {
        "id": "r-p2Ppzp1qCi"
      }
    },
    {
      "cell_type": "code",
      "source": [
        "%%writefile app.py\n",
        "import streamlit as st\n",
        "import pandas as pd\n",
        "import matplotlib.pyplot as plt\n",
        "import seaborn as sns\n",
        "import plotly.express as px\n",
        "import warnings\n",
        "from datetime import datetime\n",
        "\n",
        "warnings.filterwarnings(\"ignore\")\n",
        "\n",
        "# --- Page Configuration ---\n",
        "st.set_page_config(page_title=\"Rossmann Sales Dashboard\", layout=\"wide\")\n",
        "\n",
        "# --- Header ---\n",
        "st.markdown(\"\"\"\n",
        "    <h1 style='text-align: center; color: #FAFAFA; font-size: 40px;'>\n",
        "        📊 Rossmann Interactive Sales Dashboard\n",
        "    </h1>\n",
        "\"\"\", unsafe_allow_html=True)\n",
        "\n",
        "# --- File Upload ---\n",
        "uploaded_file = st.file_uploader(\"Upload Rossmann Sales Data\", type=[\"csv\"])\n",
        "\n",
        "if uploaded_file is not None:\n",
        "    df = pd.read_csv(uploaded_file, parse_dates=[\"Date\"])\n",
        "else:\n",
        "    st.warning(\"Please upload the Rossmann dataset to proceed.\")\n",
        "    st.stop()\n",
        "\n",
        "# --- Sidebar Filters ---\n",
        "with st.sidebar:\n",
        "    st.header(\"🔍 Filter Options\")\n",
        "\n",
        "    store_ids = st.multiselect(\"Select Store(s)\", options=sorted(df[\"Store\"].unique()))\n",
        "    store_types = st.multiselect(\"Select Store Type(s)\", options=sorted(df[\"StoreType\"].unique()))\n",
        "    assortments = st.multiselect(\"Select Assortment(s)\", options=sorted(df[\"Assortment\"].unique()))\n",
        "    date_range = st.date_input(\"Select Date Range\",\n",
        "                               [df[\"Date\"].min().date(), df[\"Date\"].max().date()])\n",
        "\n",
        "# --- Apply Filters ---\n",
        "filtered_df = df.copy()\n",
        "\n",
        "# Date filter\n",
        "if len(date_range) == 2:\n",
        "    start_date = pd.to_datetime(date_range[0])\n",
        "    end_date = pd.to_datetime(date_range[1])\n",
        "    filtered_df = filtered_df[(filtered_df[\"Date\"] >= start_date) & (filtered_df[\"Date\"] <= end_date)]\n",
        "\n",
        "# Store filter\n",
        "if store_ids:\n",
        "    filtered_df = filtered_df[filtered_df[\"Store\"].isin(store_ids)]\n",
        "\n",
        "# StoreType filter\n",
        "if store_types:\n",
        "    filtered_df = filtered_df[filtered_df[\"StoreType\"].isin(store_types)]\n",
        "\n",
        "# Assortment filter\n",
        "if assortments:\n",
        "    filtered_df = filtered_df[filtered_df[\"Assortment\"].isin(assortments)]\n",
        "\n",
        "# --- KPIs ---\n",
        "total_sales = filtered_df[\"Sales\"].sum()\n",
        "avg_customers = filtered_df[\"Customers\"].mean()\n",
        "promo_sales = filtered_df[filtered_df[\"Promo\"] == 1][\"Sales\"].sum()\n",
        "\n",
        "col1, col2, col3 = st.columns(3)\n",
        "col1.metric(\"Total Sales\", f\"€{total_sales:,}\")\n",
        "col2.metric(\"Average Customers\", f\"{avg_customers:,.0f}\")\n",
        "col3.metric(\"Promo Sales\", f\"€{promo_sales:,}\")\n",
        "\n",
        "# --- Monthly Sales Trend ---\n",
        "st.markdown(\"### 📈 Monthly Sales Trend\")\n",
        "filtered_df[\"Month\"] = filtered_df[\"Date\"].dt.to_period(\"M\")\n",
        "monthly_sales = filtered_df.groupby(filtered_df[\"Month\"].astype(str))[\"Sales\"].sum().reset_index()\n",
        "fig_time = px.line(monthly_sales, x=\"Month\", y=\"Sales\", markers=True, template=\"plotly_dark\")\n",
        "st.plotly_chart(fig_time, use_container_width=True)\n",
        "\n",
        "# --- Pie Charts ---\n",
        "col4, col5 = st.columns(2)\n",
        "with col4:\n",
        "    st.markdown(\"### 🏪 Sales by Store Type\")\n",
        "    storetype_sales = filtered_df.groupby(\"StoreType\")[\"Sales\"].sum().reset_index()\n",
        "    fig_storetype = px.pie(storetype_sales, names=\"StoreType\", values=\"Sales\", hole=0.5, template=\"seaborn\")\n",
        "    st.plotly_chart(fig_storetype, use_container_width=True)\n",
        "\n",
        "with col5:\n",
        "    st.markdown(\"### 🧺 Sales by Assortment\")\n",
        "    assortment_sales = filtered_df.groupby(\"Assortment\")[\"Sales\"].sum().reset_index()\n",
        "    fig_assortment = px.pie(assortment_sales, names=\"Assortment\", values=\"Sales\", hole=0.5, template=\"seaborn\")\n",
        "    st.plotly_chart(fig_assortment, use_container_width=True)\n",
        "\n",
        "# --- Sunburst Chart ---\n",
        "st.markdown(\"### 🌞 Sales Distribution by StoreType → Assortment → Promo\")\n",
        "fig_sunburst = px.sunburst(\n",
        "    filtered_df,\n",
        "    path=[\"StoreType\", \"Assortment\", \"Promo\"],\n",
        "    values=\"Sales\",\n",
        "    color=\"Promo\",\n",
        "    color_continuous_scale=\"RdBu\",\n",
        "    template=\"plotly_dark\"\n",
        ")\n",
        "st.plotly_chart(fig_sunburst, use_container_width=True)\n",
        "\n",
        "# --- Customers vs Sales Scatter Plot ---\n",
        "st.markdown(\"### 📌 Customers vs Sales\")\n",
        "fig_scatter = px.scatter(\n",
        "    filtered_df,\n",
        "    x=\"Customers\", y=\"Sales\",\n",
        "    color=\"StoreType\",\n",
        "    size=\"Sales\",\n",
        "    hover_data=[\"Store\", \"Date\"],\n",
        "    template=\"plotly_dark\"\n",
        ")\n",
        "st.plotly_chart(fig_scatter, use_container_width=True)\n",
        "\n",
        "# --- Segment Sales ---\n",
        "chart1, chart2 = st.columns(2)\n",
        "with chart1:\n",
        "    st.subheader(\"🟢 Open vs Closed Sales\")\n",
        "    open_df = filtered_df.groupby(\"Open\")[\"Sales\"].sum().reset_index()\n",
        "    open_df[\"Open\"] = open_df[\"Open\"].map({1: \"Open\", 0: \"Closed\"})\n",
        "    fig_open = px.pie(open_df, names=\"Open\", values=\"Sales\", hole=0.4, template=\"plotly_dark\")\n",
        "    st.plotly_chart(fig_open, use_container_width=True)\n",
        "\n",
        "with chart2:\n",
        "    st.subheader(\"🔺 Promo vs No Promo Sales\")\n",
        "    promo_df = filtered_df.groupby(\"Promo\")[\"Sales\"].sum().reset_index()\n",
        "    promo_df[\"Promo\"] = promo_df[\"Promo\"].map({1: \"Promo\", 0: \"No Promo\"})\n",
        "    fig_promo = px.pie(promo_df, names=\"Promo\", values=\"Sales\", hole=0.4, template=\"plotly_dark\")\n",
        "    st.plotly_chart(fig_promo, use_container_width=True)\n",
        "\n",
        "# --- Correlation Heatmap ---\n",
        "st.subheader(\"📊 Correlation Heatmap\")\n",
        "corr_data = filtered_df[[\"Sales\", \"Customers\", \"Promo\", \"SchoolHoliday\"]].corr()\n",
        "fig_corr, ax = plt.subplots(figsize=(8, 5))\n",
        "sns.heatmap(corr_data, annot=True, cmap=\"YlGnBu\", fmt=\".2f\", linewidths=0.5, ax=ax)\n",
        "st.pyplot(fig_corr)\n",
        "\n",
        "# --- Sample Data & Export ---\n",
        "st.subheader(\"🗂 Sample Data Preview\")\n",
        "with st.expander(\"View Sample Data\"):\n",
        "    st.write(filtered_df.head().style.background_gradient(cmap=\"YlGnBu\"))\n",
        "    csv = filtered_df.to_csv(index=False).encode(\"utf-8\")\n",
        "    st.download_button(\"Download CSV\", data=csv, file_name=\"Rossmann_Filtered_Data.csv\", mime=\"text/csv\")\n"
      ],
      "metadata": {
        "colab": {
          "base_uri": "https://localhost:8080/"
        },
        "id": "KaIzJUOXbswg",
        "outputId": "e947cad2-0a2a-4f43-fe4a-00aaedd6dc0b"
      },
      "execution_count": 3,
      "outputs": [
        {
          "output_type": "stream",
          "name": "stdout",
          "text": [
            "Writing app.py\n"
          ]
        }
      ]
    },
    {
      "cell_type": "markdown",
      "source": [
        "**Getting authenticatae token for ngrok and define a funtion to make UI interface in local server **"
      ],
      "metadata": {
        "id": "hmUDjmA42DAD"
      }
    },
    {
      "cell_type": "code",
      "source": [
        "import threading\n",
        "import time\n",
        "from pyngrok import ngrok\n",
        "ngrok.set_auth_token(\"2ySL0saJYSgzKIcg1NNACGs2gXP_4SCQYsLJSQ6d5Edt8M3v6\")\n",
        "\n",
        "def run():\n",
        "    !streamlit run app.py &\n",
        "\n",
        "# Start Streamlit in a separate thread\n",
        "thread = threading.Thread(target=run)\n",
        "thread.start()\n",
        "\n",
        "# Wait a little for the server to start\n",
        "time.sleep(3)\n",
        "\n",
        "# Get public URL\n",
        "public_url = ngrok.connect(8501)\n",
        "print(f\"Streamlit app is live at: {public_url}\")"
      ],
      "metadata": {
        "colab": {
          "base_uri": "https://localhost:8080/"
        },
        "id": "kRmcXIy7wuEM",
        "outputId": "223e47c6-4456-4d6d-e399-513f0d918cb3"
      },
      "execution_count": 4,
      "outputs": [
        {
          "output_type": "stream",
          "name": "stdout",
          "text": [
            "\n",
            "Collecting usage statistics. To deactivate, set browser.gatherUsageStats to false.\n",
            "\u001b[0m\n",
            "\u001b[0m\n",
            "\u001b[34m\u001b[1m  You can now view your Streamlit app in your browser.\u001b[0m\n",
            "\u001b[0m\n",
            "\u001b[34m  Local URL: \u001b[0m\u001b[1mhttp://localhost:8501\u001b[0m\n",
            "\u001b[34m  Network URL: \u001b[0m\u001b[1mhttp://172.28.0.12:8501\u001b[0m\n",
            "\u001b[34m  External URL: \u001b[0m\u001b[1mhttp://34.16.172.233:8501\u001b[0m\n",
            "\u001b[0m\n",
            "Streamlit app is live at: NgrokTunnel: \"https://851b-34-16-172-233.ngrok-free.app\" -> \"http://localhost:8501\"\n"
          ]
        }
      ]
    }
  ]
}